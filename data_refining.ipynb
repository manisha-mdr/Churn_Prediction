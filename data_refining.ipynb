{
  "cells": [
    {
      "cell_type": "code",
      "execution_count": 61,
      "metadata": {
        "id": "xfTHU6gjI-7M"
      },
      "outputs": [],
      "source": [
        "#imorting librairs\n",
        "import pandas as pd\n",
        "import numpy as np\n",
        "import seaborn as sns\n",
        "import matplotlib.pyplot as plt"
      ]
    },
    {
      "cell_type": "code",
      "execution_count": 70,
      "metadata": {
        "id": "XyNWu_eDJ641"
      },
      "outputs": [],
      "source": [
        "# Reading the dataset\n",
        "data = pd.read_csv('/content/train.csv')\n"
      ]
    },
    {
      "cell_type": "code",
      "execution_count": 71,
      "metadata": {
        "colab": {
          "base_uri": "https://localhost:8080/",
          "height": 782
        },
        "id": "z15NeZyvKM9r",
        "outputId": "4d60172c-bdb1-4b76-925a-7a54942adcb1"
      },
      "outputs": [
        {
          "data": {
            "text/html": [
              "\n",
              "  <div id=\"df-37a999e1-c5df-4596-b919-9c5e81277c7c\">\n",
              "    <div class=\"colab-df-container\">\n",
              "      <div>\n",
              "<style scoped>\n",
              "    .dataframe tbody tr th:only-of-type {\n",
              "        vertical-align: middle;\n",
              "    }\n",
              "\n",
              "    .dataframe tbody tr th {\n",
              "        vertical-align: top;\n",
              "    }\n",
              "\n",
              "    .dataframe thead th {\n",
              "        text-align: right;\n",
              "    }\n",
              "</style>\n",
              "<table border=\"1\" class=\"dataframe\">\n",
              "  <thead>\n",
              "    <tr style=\"text-align: right;\">\n",
              "      <th></th>\n",
              "      <th>customer_id</th>\n",
              "      <th>Name</th>\n",
              "      <th>age</th>\n",
              "      <th>gender</th>\n",
              "      <th>security_no</th>\n",
              "      <th>region_category</th>\n",
              "      <th>membership_category</th>\n",
              "      <th>joining_date</th>\n",
              "      <th>joined_through_referral</th>\n",
              "      <th>referral_id</th>\n",
              "      <th>preferred_offer_types</th>\n",
              "      <th>medium_of_operation</th>\n",
              "      <th>internet_option</th>\n",
              "      <th>last_visit_time</th>\n",
              "      <th>days_since_last_login</th>\n",
              "      <th>avg_time_spent</th>\n",
              "      <th>avg_transaction_value</th>\n",
              "      <th>avg_frequency_login_days</th>\n",
              "      <th>points_in_wallet</th>\n",
              "      <th>used_special_discount</th>\n",
              "      <th>offer_application_preference</th>\n",
              "      <th>past_complaint</th>\n",
              "      <th>complaint_status</th>\n",
              "      <th>feedback</th>\n",
              "      <th>churn_risk_score</th>\n",
              "    </tr>\n",
              "  </thead>\n",
              "  <tbody>\n",
              "    <tr>\n",
              "      <th>0</th>\n",
              "      <td>fffe4300490044003600300030003800</td>\n",
              "      <td>Pattie Morrisey</td>\n",
              "      <td>18</td>\n",
              "      <td>F</td>\n",
              "      <td>XW0DQ7H</td>\n",
              "      <td>Village</td>\n",
              "      <td>Platinum Membership</td>\n",
              "      <td>2017-08-17</td>\n",
              "      <td>No</td>\n",
              "      <td>xxxxxxxx</td>\n",
              "      <td>Gift Vouchers/Coupons</td>\n",
              "      <td>?</td>\n",
              "      <td>Wi-Fi</td>\n",
              "      <td>16:08:02</td>\n",
              "      <td>17</td>\n",
              "      <td>300.63</td>\n",
              "      <td>53005.25</td>\n",
              "      <td>17.0</td>\n",
              "      <td>781.750000</td>\n",
              "      <td>Yes</td>\n",
              "      <td>Yes</td>\n",
              "      <td>No</td>\n",
              "      <td>Not Applicable</td>\n",
              "      <td>Products always in Stock</td>\n",
              "      <td>2</td>\n",
              "    </tr>\n",
              "    <tr>\n",
              "      <th>1</th>\n",
              "      <td>fffe43004900440032003100300035003700</td>\n",
              "      <td>Traci Peery</td>\n",
              "      <td>32</td>\n",
              "      <td>F</td>\n",
              "      <td>5K0N3X1</td>\n",
              "      <td>City</td>\n",
              "      <td>Premium Membership</td>\n",
              "      <td>2017-08-28</td>\n",
              "      <td>?</td>\n",
              "      <td>CID21329</td>\n",
              "      <td>Gift Vouchers/Coupons</td>\n",
              "      <td>Desktop</td>\n",
              "      <td>Mobile_Data</td>\n",
              "      <td>12:38:13</td>\n",
              "      <td>16</td>\n",
              "      <td>306.34</td>\n",
              "      <td>12838.38</td>\n",
              "      <td>10.0</td>\n",
              "      <td>NaN</td>\n",
              "      <td>Yes</td>\n",
              "      <td>No</td>\n",
              "      <td>Yes</td>\n",
              "      <td>Solved</td>\n",
              "      <td>Quality Customer Care</td>\n",
              "      <td>1</td>\n",
              "    </tr>\n",
              "    <tr>\n",
              "      <th>2</th>\n",
              "      <td>fffe4300490044003100390032003600</td>\n",
              "      <td>Merideth Mcmeen</td>\n",
              "      <td>44</td>\n",
              "      <td>F</td>\n",
              "      <td>1F2TCL3</td>\n",
              "      <td>Town</td>\n",
              "      <td>No Membership</td>\n",
              "      <td>2016-11-11</td>\n",
              "      <td>Yes</td>\n",
              "      <td>CID12313</td>\n",
              "      <td>Gift Vouchers/Coupons</td>\n",
              "      <td>Desktop</td>\n",
              "      <td>Wi-Fi</td>\n",
              "      <td>22:53:21</td>\n",
              "      <td>14</td>\n",
              "      <td>516.16</td>\n",
              "      <td>21027.00</td>\n",
              "      <td>22.0</td>\n",
              "      <td>500.690000</td>\n",
              "      <td>No</td>\n",
              "      <td>Yes</td>\n",
              "      <td>Yes</td>\n",
              "      <td>Solved in Follow-up</td>\n",
              "      <td>Poor Website</td>\n",
              "      <td>5</td>\n",
              "    </tr>\n",
              "    <tr>\n",
              "      <th>3</th>\n",
              "      <td>fffe43004900440036003000330031003600</td>\n",
              "      <td>Eufemia Cardwell</td>\n",
              "      <td>37</td>\n",
              "      <td>M</td>\n",
              "      <td>VJGJ33N</td>\n",
              "      <td>City</td>\n",
              "      <td>No Membership</td>\n",
              "      <td>2016-10-29</td>\n",
              "      <td>Yes</td>\n",
              "      <td>CID3793</td>\n",
              "      <td>Gift Vouchers/Coupons</td>\n",
              "      <td>Desktop</td>\n",
              "      <td>Mobile_Data</td>\n",
              "      <td>15:57:50</td>\n",
              "      <td>11</td>\n",
              "      <td>53.27</td>\n",
              "      <td>25239.56</td>\n",
              "      <td>6.0</td>\n",
              "      <td>567.660000</td>\n",
              "      <td>No</td>\n",
              "      <td>Yes</td>\n",
              "      <td>Yes</td>\n",
              "      <td>Unsolved</td>\n",
              "      <td>Poor Website</td>\n",
              "      <td>5</td>\n",
              "    </tr>\n",
              "    <tr>\n",
              "      <th>4</th>\n",
              "      <td>fffe43004900440031003900350030003600</td>\n",
              "      <td>Meghan Kosak</td>\n",
              "      <td>31</td>\n",
              "      <td>F</td>\n",
              "      <td>SVZXCWB</td>\n",
              "      <td>City</td>\n",
              "      <td>No Membership</td>\n",
              "      <td>2017-09-12</td>\n",
              "      <td>No</td>\n",
              "      <td>xxxxxxxx</td>\n",
              "      <td>Credit/Debit Card Offers</td>\n",
              "      <td>Smartphone</td>\n",
              "      <td>Mobile_Data</td>\n",
              "      <td>15:46:44</td>\n",
              "      <td>20</td>\n",
              "      <td>113.13</td>\n",
              "      <td>24483.66</td>\n",
              "      <td>16.0</td>\n",
              "      <td>663.060000</td>\n",
              "      <td>No</td>\n",
              "      <td>Yes</td>\n",
              "      <td>Yes</td>\n",
              "      <td>Solved</td>\n",
              "      <td>Poor Website</td>\n",
              "      <td>5</td>\n",
              "    </tr>\n",
              "    <tr>\n",
              "      <th>...</th>\n",
              "      <td>...</td>\n",
              "      <td>...</td>\n",
              "      <td>...</td>\n",
              "      <td>...</td>\n",
              "      <td>...</td>\n",
              "      <td>...</td>\n",
              "      <td>...</td>\n",
              "      <td>...</td>\n",
              "      <td>...</td>\n",
              "      <td>...</td>\n",
              "      <td>...</td>\n",
              "      <td>...</td>\n",
              "      <td>...</td>\n",
              "      <td>...</td>\n",
              "      <td>...</td>\n",
              "      <td>...</td>\n",
              "      <td>...</td>\n",
              "      <td>...</td>\n",
              "      <td>...</td>\n",
              "      <td>...</td>\n",
              "      <td>...</td>\n",
              "      <td>...</td>\n",
              "      <td>...</td>\n",
              "      <td>...</td>\n",
              "      <td>...</td>\n",
              "    </tr>\n",
              "    <tr>\n",
              "      <th>36982</th>\n",
              "      <td>fffe43004900440033003600330033003800</td>\n",
              "      <td>Leslie Bruneau</td>\n",
              "      <td>45</td>\n",
              "      <td>F</td>\n",
              "      <td>I2TAL7N</td>\n",
              "      <td>NaN</td>\n",
              "      <td>Premium Membership</td>\n",
              "      <td>2016-08-31</td>\n",
              "      <td>No</td>\n",
              "      <td>xxxxxxxx</td>\n",
              "      <td>Gift Vouchers/Coupons</td>\n",
              "      <td>?</td>\n",
              "      <td>Wi-Fi</td>\n",
              "      <td>08:30:41</td>\n",
              "      <td>10</td>\n",
              "      <td>34.93</td>\n",
              "      <td>41558.93</td>\n",
              "      <td>19.0</td>\n",
              "      <td>703.030000</td>\n",
              "      <td>Yes</td>\n",
              "      <td>No</td>\n",
              "      <td>No</td>\n",
              "      <td>Not Applicable</td>\n",
              "      <td>Poor Product Quality</td>\n",
              "      <td>3</td>\n",
              "    </tr>\n",
              "    <tr>\n",
              "      <th>36983</th>\n",
              "      <td>fffe43004900440032003300370030003700</td>\n",
              "      <td>Faustina Balog</td>\n",
              "      <td>45</td>\n",
              "      <td>M</td>\n",
              "      <td>PU0XLQY</td>\n",
              "      <td>Town</td>\n",
              "      <td>Basic Membership</td>\n",
              "      <td>2016-08-30</td>\n",
              "      <td>Yes</td>\n",
              "      <td>CID45477</td>\n",
              "      <td>Without Offers</td>\n",
              "      <td>Smartphone</td>\n",
              "      <td>Wi-Fi</td>\n",
              "      <td>10:53:31</td>\n",
              "      <td>9</td>\n",
              "      <td>49.33</td>\n",
              "      <td>45358.49</td>\n",
              "      <td>11.0</td>\n",
              "      <td>242.979625</td>\n",
              "      <td>Yes</td>\n",
              "      <td>No</td>\n",
              "      <td>No</td>\n",
              "      <td>Not Applicable</td>\n",
              "      <td>Poor Customer Service</td>\n",
              "      <td>5</td>\n",
              "    </tr>\n",
              "    <tr>\n",
              "      <th>36984</th>\n",
              "      <td>fffe43004900440035003800320035003300</td>\n",
              "      <td>Hilary Ortego</td>\n",
              "      <td>51</td>\n",
              "      <td>M</td>\n",
              "      <td>LM92BDS</td>\n",
              "      <td>Town</td>\n",
              "      <td>Gold Membership</td>\n",
              "      <td>2016-10-07</td>\n",
              "      <td>No</td>\n",
              "      <td>xxxxxxxx</td>\n",
              "      <td>Without Offers</td>\n",
              "      <td>Desktop</td>\n",
              "      <td>Fiber_Optic</td>\n",
              "      <td>15:41:36</td>\n",
              "      <td>24</td>\n",
              "      <td>312.33</td>\n",
              "      <td>63446.71</td>\n",
              "      <td>2.0</td>\n",
              "      <td>778.700000</td>\n",
              "      <td>No</td>\n",
              "      <td>Yes</td>\n",
              "      <td>No</td>\n",
              "      <td>Not Applicable</td>\n",
              "      <td>Products always in Stock</td>\n",
              "      <td>1</td>\n",
              "    </tr>\n",
              "    <tr>\n",
              "      <th>36985</th>\n",
              "      <td>fffe4300490044003800310034003500</td>\n",
              "      <td>Dwain Cann</td>\n",
              "      <td>12</td>\n",
              "      <td>F</td>\n",
              "      <td>GWAHGJY</td>\n",
              "      <td>Village</td>\n",
              "      <td>Premium Membership</td>\n",
              "      <td>2016-10-25</td>\n",
              "      <td>No</td>\n",
              "      <td>xxxxxxxx</td>\n",
              "      <td>Gift Vouchers/Coupons</td>\n",
              "      <td>Desktop</td>\n",
              "      <td>Fiber_Optic</td>\n",
              "      <td>03:30:17</td>\n",
              "      <td>13</td>\n",
              "      <td>418.38</td>\n",
              "      <td>56397.21</td>\n",
              "      <td>7.0</td>\n",
              "      <td>725.890000</td>\n",
              "      <td>Yes</td>\n",
              "      <td>Yes</td>\n",
              "      <td>Yes</td>\n",
              "      <td>Unsolved</td>\n",
              "      <td>Products always in Stock</td>\n",
              "      <td>2</td>\n",
              "    </tr>\n",
              "    <tr>\n",
              "      <th>36986</th>\n",
              "      <td>fffe43004900440034003900300036003500</td>\n",
              "      <td>Marlena Chastain</td>\n",
              "      <td>27</td>\n",
              "      <td>M</td>\n",
              "      <td>8X0LUUS</td>\n",
              "      <td>Town</td>\n",
              "      <td>Platinum Membership</td>\n",
              "      <td>2015-09-07</td>\n",
              "      <td>Yes</td>\n",
              "      <td>CID15800</td>\n",
              "      <td>Credit/Debit Card Offers</td>\n",
              "      <td>Desktop</td>\n",
              "      <td>Mobile_Data</td>\n",
              "      <td>05:29:19</td>\n",
              "      <td>13</td>\n",
              "      <td>135.83</td>\n",
              "      <td>8225.68</td>\n",
              "      <td>16.0</td>\n",
              "      <td>748.570000</td>\n",
              "      <td>Yes</td>\n",
              "      <td>No</td>\n",
              "      <td>No</td>\n",
              "      <td>Not Applicable</td>\n",
              "      <td>No reason specified</td>\n",
              "      <td>3</td>\n",
              "    </tr>\n",
              "  </tbody>\n",
              "</table>\n",
              "<p>36987 rows × 25 columns</p>\n",
              "</div>\n",
              "      <button class=\"colab-df-convert\" onclick=\"convertToInteractive('df-37a999e1-c5df-4596-b919-9c5e81277c7c')\"\n",
              "              title=\"Convert this dataframe to an interactive table.\"\n",
              "              style=\"display:none;\">\n",
              "        \n",
              "  <svg xmlns=\"http://www.w3.org/2000/svg\" height=\"24px\"viewBox=\"0 0 24 24\"\n",
              "       width=\"24px\">\n",
              "    <path d=\"M0 0h24v24H0V0z\" fill=\"none\"/>\n",
              "    <path d=\"M18.56 5.44l.94 2.06.94-2.06 2.06-.94-2.06-.94-.94-2.06-.94 2.06-2.06.94zm-11 1L8.5 8.5l.94-2.06 2.06-.94-2.06-.94L8.5 2.5l-.94 2.06-2.06.94zm10 10l.94 2.06.94-2.06 2.06-.94-2.06-.94-.94-2.06-.94 2.06-2.06.94z\"/><path d=\"M17.41 7.96l-1.37-1.37c-.4-.4-.92-.59-1.43-.59-.52 0-1.04.2-1.43.59L10.3 9.45l-7.72 7.72c-.78.78-.78 2.05 0 2.83L4 21.41c.39.39.9.59 1.41.59.51 0 1.02-.2 1.41-.59l7.78-7.78 2.81-2.81c.8-.78.8-2.07 0-2.86zM5.41 20L4 18.59l7.72-7.72 1.47 1.35L5.41 20z\"/>\n",
              "  </svg>\n",
              "      </button>\n",
              "      \n",
              "  <style>\n",
              "    .colab-df-container {\n",
              "      display:flex;\n",
              "      flex-wrap:wrap;\n",
              "      gap: 12px;\n",
              "    }\n",
              "\n",
              "    .colab-df-convert {\n",
              "      background-color: #E8F0FE;\n",
              "      border: none;\n",
              "      border-radius: 50%;\n",
              "      cursor: pointer;\n",
              "      display: none;\n",
              "      fill: #1967D2;\n",
              "      height: 32px;\n",
              "      padding: 0 0 0 0;\n",
              "      width: 32px;\n",
              "    }\n",
              "\n",
              "    .colab-df-convert:hover {\n",
              "      background-color: #E2EBFA;\n",
              "      box-shadow: 0px 1px 2px rgba(60, 64, 67, 0.3), 0px 1px 3px 1px rgba(60, 64, 67, 0.15);\n",
              "      fill: #174EA6;\n",
              "    }\n",
              "\n",
              "    [theme=dark] .colab-df-convert {\n",
              "      background-color: #3B4455;\n",
              "      fill: #D2E3FC;\n",
              "    }\n",
              "\n",
              "    [theme=dark] .colab-df-convert:hover {\n",
              "      background-color: #434B5C;\n",
              "      box-shadow: 0px 1px 3px 1px rgba(0, 0, 0, 0.15);\n",
              "      filter: drop-shadow(0px 1px 2px rgba(0, 0, 0, 0.3));\n",
              "      fill: #FFFFFF;\n",
              "    }\n",
              "  </style>\n",
              "\n",
              "      <script>\n",
              "        const buttonEl =\n",
              "          document.querySelector('#df-37a999e1-c5df-4596-b919-9c5e81277c7c button.colab-df-convert');\n",
              "        buttonEl.style.display =\n",
              "          google.colab.kernel.accessAllowed ? 'block' : 'none';\n",
              "\n",
              "        async function convertToInteractive(key) {\n",
              "          const element = document.querySelector('#df-37a999e1-c5df-4596-b919-9c5e81277c7c');\n",
              "          const dataTable =\n",
              "            await google.colab.kernel.invokeFunction('convertToInteractive',\n",
              "                                                     [key], {});\n",
              "          if (!dataTable) return;\n",
              "\n",
              "          const docLinkHtml = 'Like what you see? Visit the ' +\n",
              "            '<a target=\"_blank\" href=https://colab.research.google.com/notebooks/data_table.ipynb>data table notebook</a>'\n",
              "            + ' to learn more about interactive tables.';\n",
              "          element.innerHTML = '';\n",
              "          dataTable['output_type'] = 'display_data';\n",
              "          await google.colab.output.renderOutput(dataTable, element);\n",
              "          const docLink = document.createElement('div');\n",
              "          docLink.innerHTML = docLinkHtml;\n",
              "          element.appendChild(docLink);\n",
              "        }\n",
              "      </script>\n",
              "    </div>\n",
              "  </div>\n",
              "  "
            ],
            "text/plain": [
              "                                customer_id  ... churn_risk_score\n",
              "0          fffe4300490044003600300030003800  ...                2\n",
              "1      fffe43004900440032003100300035003700  ...                1\n",
              "2          fffe4300490044003100390032003600  ...                5\n",
              "3      fffe43004900440036003000330031003600  ...                5\n",
              "4      fffe43004900440031003900350030003600  ...                5\n",
              "...                                     ...  ...              ...\n",
              "36982  fffe43004900440033003600330033003800  ...                3\n",
              "36983  fffe43004900440032003300370030003700  ...                5\n",
              "36984  fffe43004900440035003800320035003300  ...                1\n",
              "36985      fffe4300490044003800310034003500  ...                2\n",
              "36986  fffe43004900440034003900300036003500  ...                3\n",
              "\n",
              "[36987 rows x 25 columns]"
            ]
          },
          "execution_count": 71,
          "metadata": {},
          "output_type": "execute_result"
        }
      ],
      "source": [
        "data.head(-5)"
      ]
    },
    {
      "cell_type": "code",
      "execution_count": 72,
      "metadata": {
        "id": "TiJQorMuNL5Z"
      },
      "outputs": [],
      "source": [
        "#encoding the gender column\n",
        "data['gender']=data['gender'].astype('category')\n",
        "data['gender_code']=data['gender'].cat.codes"
      ]
    },
    {
      "cell_type": "code",
      "execution_count": 73,
      "metadata": {
        "colab": {
          "base_uri": "https://localhost:8080/"
        },
        "id": "fmQ73CA5NRyd",
        "outputId": "7440caf4-ec59-4119-94ac-02aa3c7b1cf0"
      },
      "outputs": [
        {
          "data": {
            "text/plain": [
              "Town       14128\n",
              "City       12737\n",
              "Village     4699\n",
              "Name: region_category, dtype: int64"
            ]
          },
          "execution_count": 73,
          "metadata": {},
          "output_type": "execute_result"
        }
      ],
      "source": [
        "#checking region_category value counts\n",
        "data[\"region_category\"].value_counts()"
      ]
    },
    {
      "cell_type": "code",
      "execution_count": 74,
      "metadata": {
        "id": "snYHDBGGNVSB"
      },
      "outputs": [],
      "source": [
        "#encoding the region_category\n",
        "data['region_category'] = data['region_category'].str.lower()\n",
        "data[\"region_category\"] = data[\"region_category\"].astype('category')\n",
        "data['region_category_code']=data['region_category'].cat.codes\n",
        "\n"
      ]
    },
    {
      "cell_type": "code",
      "execution_count": 75,
      "metadata": {
        "colab": {
          "base_uri": "https://localhost:8080/"
        },
        "id": "L9_6i17ONiwQ",
        "outputId": "5ed2b295-c52a-4744-9b84-f6768a626b17"
      },
      "outputs": [
        {
          "data": {
            "text/plain": [
              " 1    14128\n",
              " 0    12737\n",
              "-1     5428\n",
              " 2     4699\n",
              "Name: region_category_code, dtype: int64"
            ]
          },
          "execution_count": 75,
          "metadata": {},
          "output_type": "execute_result"
        }
      ],
      "source": [
        "#checking region_category value counts\n",
        "data[\"region_category_code\"].value_counts()\n"
      ]
    },
    {
      "cell_type": "code",
      "execution_count": 76,
      "metadata": {
        "colab": {
          "base_uri": "https://localhost:8080/"
        },
        "id": "v8bTWOMUP0md",
        "outputId": "005d98fb-618b-4226-e852-0ef87594c8f5"
      },
      "outputs": [
        {
          "data": {
            "text/plain": [
              "basic membership       7724\n",
              "no membership          7692\n",
              "gold membership        6795\n",
              "silver membership      5988\n",
              "premium membership     4455\n",
              "platinum membership    4338\n",
              "Name: membership_category, dtype: int64"
            ]
          },
          "execution_count": 76,
          "metadata": {},
          "output_type": "execute_result"
        }
      ],
      "source": [
        "#checking membership_category value counts\n",
        "data[\"membership_category\"].str.lower().value_counts()"
      ]
    },
    {
      "cell_type": "code",
      "execution_count": 77,
      "metadata": {
        "id": "eDfPo8iuP-xu"
      },
      "outputs": [],
      "source": [
        "data['membership_category'] = data['membership_category'].str.lower()\n",
        "data[\"membership_category\"] = data[\"membership_category\"].astype('category')\n",
        "data['membership_category_code']=data['membership_category'].cat.codes\n"
      ]
    },
    {
      "cell_type": "code",
      "execution_count": 78,
      "metadata": {
        "colab": {
          "base_uri": "https://localhost:8080/"
        },
        "id": "a2nwFZyeQIxd",
        "outputId": "c30902eb-0b1f-423d-f192-4065d2e84346"
      },
      "outputs": [
        {
          "data": {
            "text/plain": [
              "0    7724\n",
              "2    7692\n",
              "1    6795\n",
              "5    5988\n",
              "4    4455\n",
              "3    4338\n",
              "Name: membership_category_code, dtype: int64"
            ]
          },
          "execution_count": 78,
          "metadata": {},
          "output_type": "execute_result"
        }
      ],
      "source": [
        "#checking region_category value counts\n",
        "data[\"membership_category_code\"].value_counts()\n"
      ]
    },
    {
      "cell_type": "code",
      "execution_count": 79,
      "metadata": {
        "id": "qhGwumm7QccR"
      },
      "outputs": [],
      "source": [
        "# converting date to years\n",
        "data['joining_date'] = pd.to_datetime(data['joining_date'],format='%Y-%m-%d')\n",
        "data['year'] = 2021-pd.DatetimeIndex(data['joining_date']).year"
      ]
    },
    {
      "cell_type": "code",
      "execution_count": 81,
      "metadata": {
        "colab": {
          "base_uri": "https://localhost:8080/"
        },
        "id": "CFReauJhQkVc",
        "outputId": "f706687f-1de4-49b2-f778-5d4542772bf4"
      },
      "outputs": [
        {
          "data": {
            "text/plain": [
              "no     15839\n",
              "yes    15715\n",
              "?       5438\n",
              "Name: joined_through_referral, dtype: int64"
            ]
          },
          "execution_count": 81,
          "metadata": {},
          "output_type": "execute_result"
        }
      ],
      "source": [
        "#checking joined_through_referral value counts\n",
        "data[\"joined_through_referral\"].str.lower().value_counts()"
      ]
    },
    {
      "cell_type": "code",
      "execution_count": 82,
      "metadata": {
        "id": "D1CoBdGMQrch"
      },
      "outputs": [],
      "source": [
        "data['joined_through_referral'] = data['joined_through_referral'].str.lower()\n",
        "data[\"joined_through_referral\"] = data[\"joined_through_referral\"].astype('category')\n",
        "data['joined_through_referral_code']=data['joined_through_referral'].cat.codes"
      ]
    },
    {
      "cell_type": "code",
      "execution_count": 83,
      "metadata": {
        "colab": {
          "base_uri": "https://localhost:8080/"
        },
        "id": "IMThybbSQv__",
        "outputId": "a433f9aa-7cb7-4e8e-f2df-0e884ea57694"
      },
      "outputs": [
        {
          "data": {
            "text/plain": [
              "gift vouchers/coupons       12349\n",
              "credit/debit card offers    12274\n",
              "without offers              12081\n",
              "Name: preferred_offer_types, dtype: int64"
            ]
          },
          "execution_count": 83,
          "metadata": {},
          "output_type": "execute_result"
        }
      ],
      "source": [
        "#checking preferred_offer_types value counts\n",
        "data[\"preferred_offer_types\"].str.lower().value_counts()"
      ]
    },
    {
      "cell_type": "code",
      "execution_count": 84,
      "metadata": {
        "id": "2VIhHLYVQ7AP"
      },
      "outputs": [],
      "source": [
        "data['preferred_offer_types'] = data['preferred_offer_types'].str.lower()\n",
        "data[\"preferred_offer_types\"] = data[\"preferred_offer_types\"].astype('category')\n",
        "data['preferred_offer_types_code']=data['preferred_offer_types'].cat.codes"
      ]
    },
    {
      "cell_type": "code",
      "execution_count": 85,
      "metadata": {
        "colab": {
          "base_uri": "https://localhost:8080/"
        },
        "id": "m_Vm7pL0Q-fo",
        "outputId": "dac81bb7-a0a7-4e25-fcf4-e3c7a93c891c"
      },
      "outputs": [
        {
          "data": {
            "text/plain": [
              "desktop       13913\n",
              "smartphone    13876\n",
              "?              5393\n",
              "both           3810\n",
              "Name: medium_of_operation, dtype: int64"
            ]
          },
          "execution_count": 85,
          "metadata": {},
          "output_type": "execute_result"
        }
      ],
      "source": [
        "#checking preferred_offer_types value counts\n",
        "data[\"medium_of_operation\"].str.lower().value_counts()"
      ]
    },
    {
      "cell_type": "code",
      "execution_count": 86,
      "metadata": {
        "id": "bXlKQfj6Eulc"
      },
      "outputs": [],
      "source": [
        "data['medium_of_operation'] = data['medium_of_operation'].str.lower()\n",
        "data[\"medium_of_operation\"] = data[\"medium_of_operation\"].astype('category')\n",
        "data['medium_of_operation_code']=data['medium_of_operation'].cat.codes"
      ]
    },
    {
      "cell_type": "code",
      "execution_count": 87,
      "metadata": {
        "colab": {
          "base_uri": "https://localhost:8080/"
        },
        "id": "T77ry2sdE2do",
        "outputId": "173c290f-48bd-4679-eb24-f652ade24238"
      },
      "outputs": [
        {
          "data": {
            "text/plain": [
              "2    13913\n",
              "3    13876\n",
              "0     5393\n",
              "1     3810\n",
              "Name: medium_of_operation_code, dtype: int64"
            ]
          },
          "execution_count": 87,
          "metadata": {},
          "output_type": "execute_result"
        }
      ],
      "source": [
        "#checking preferred_offer_types value counts\n",
        "data[\"medium_of_operation_code\"].value_counts()\n"
      ]
    },
    {
      "cell_type": "code",
      "execution_count": 88,
      "metadata": {
        "colab": {
          "base_uri": "https://localhost:8080/"
        },
        "id": "qs6WrhOfE56J",
        "outputId": "368ab6db-e2d5-4b92-ac55-f75dc9749a7f"
      },
      "outputs": [
        {
          "data": {
            "text/plain": [
              "wi-fi          12413\n",
              "mobile_data    12343\n",
              "fiber_optic    12236\n",
              "Name: internet_option, dtype: int64"
            ]
          },
          "execution_count": 88,
          "metadata": {},
          "output_type": "execute_result"
        }
      ],
      "source": [
        "data[\"internet_option\"].str.lower().value_counts()"
      ]
    },
    {
      "cell_type": "code",
      "execution_count": 89,
      "metadata": {
        "id": "kfuyQJo7E8ti"
      },
      "outputs": [],
      "source": [
        "data['internet_option'] = data['internet_option'].str.lower()\n",
        "data[\"internet_option\"] = data[\"internet_option\"].astype('category')\n",
        "data['internet_option_code']=data['internet_option'].cat.codes"
      ]
    },
    {
      "cell_type": "code",
      "execution_count": 90,
      "metadata": {
        "id": "QPfU5BV8E-2c"
      },
      "outputs": [],
      "source": [
        "data['days_since_last_login'].replace(-999,50, inplace=True)"
      ]
    },
    {
      "cell_type": "code",
      "execution_count": 91,
      "metadata": {
        "colab": {
          "base_uri": "https://localhost:8080/"
        },
        "id": "7mKb6HIOFAbv",
        "outputId": "27b421d1-ed57-4a68-d891-a1bc963c3a5a"
      },
      "outputs": [
        {
          "data": {
            "text/plain": [
              "0     781.750000\n",
              "1            NaN\n",
              "2     500.690000\n",
              "3     567.660000\n",
              "4     663.060000\n",
              "5     722.270000\n",
              "6     756.210000\n",
              "7     568.080000\n",
              "8            NaN\n",
              "9     706.230000\n",
              "10    699.700000\n",
              "11    798.120000\n",
              "12    608.260000\n",
              "13           NaN\n",
              "14           NaN\n",
              "15    141.513201\n",
              "16           NaN\n",
              "17    733.970000\n",
              "18    551.110000\n",
              "19    164.800769\n",
              "Name: points_in_wallet, dtype: float64"
            ]
          },
          "execution_count": 91,
          "metadata": {},
          "output_type": "execute_result"
        }
      ],
      "source": [
        "data[\"points_in_wallet\"].head(20)"
      ]
    },
    {
      "cell_type": "code",
      "execution_count": 92,
      "metadata": {
        "id": "MLSmE85UFCUy"
      },
      "outputs": [],
      "source": [
        "s=pd.Series(data[\"points_in_wallet\"])\n",
        "data[\"points_in_wallet\"]=s.interpolate(axis=0)"
      ]
    },
    {
      "cell_type": "code",
      "execution_count": 93,
      "metadata": {
        "colab": {
          "base_uri": "https://localhost:8080/"
        },
        "id": "_Exy70sEFFFm",
        "outputId": "b762d77f-4e8c-440d-e90a-2b83977d4e61"
      },
      "outputs": [
        {
          "data": {
            "text/plain": [
              "yes    20342\n",
              "no     16650\n",
              "Name: used_special_discount, dtype: int64"
            ]
          },
          "execution_count": 93,
          "metadata": {},
          "output_type": "execute_result"
        }
      ],
      "source": [
        "data[\"used_special_discount\"].str.lower().value_counts()"
      ]
    },
    {
      "cell_type": "code",
      "execution_count": 94,
      "metadata": {
        "id": "cPXT_XRkFH1m"
      },
      "outputs": [],
      "source": [
        "data['used_special_discount'] = data['used_special_discount'].str.lower()\n",
        "data[\"used_special_discount\"] = data[\"used_special_discount\"].astype('category')\n",
        "data['used_special_discount_code']=data['used_special_discount'].cat.codes"
      ]
    },
    {
      "cell_type": "code",
      "execution_count": 95,
      "metadata": {
        "colab": {
          "base_uri": "https://localhost:8080/"
        },
        "id": "zkFr3ib_FLB_",
        "outputId": "06a68dc7-abcc-4c56-ce76-3b42461c2042"
      },
      "outputs": [
        {
          "data": {
            "text/plain": [
              "yes    20440\n",
              "no     16552\n",
              "Name: offer_application_preference, dtype: int64"
            ]
          },
          "execution_count": 95,
          "metadata": {},
          "output_type": "execute_result"
        }
      ],
      "source": [
        "data[\"offer_application_preference\"].str.lower().value_counts()"
      ]
    },
    {
      "cell_type": "code",
      "execution_count": 96,
      "metadata": {
        "id": "oYwefvc9FNEF"
      },
      "outputs": [],
      "source": [
        "data['offer_application_preference'] = data['offer_application_preference'].str.lower()\n",
        "data[\"offer_application_preference\"] = data[\"offer_application_preference\"].astype('category')\n",
        "data['offer_application_preference_code']=data['offer_application_preference'].cat.codes"
      ]
    },
    {
      "cell_type": "code",
      "execution_count": 97,
      "metadata": {
        "colab": {
          "base_uri": "https://localhost:8080/"
        },
        "id": "0mVJWWK-FQwr",
        "outputId": "b777b7cb-4a9c-4327-be15-9f640511380f"
      },
      "outputs": [
        {
          "data": {
            "text/plain": [
              "1    20440\n",
              "0    16552\n",
              "Name: offer_application_preference_code, dtype: int64"
            ]
          },
          "execution_count": 97,
          "metadata": {},
          "output_type": "execute_result"
        }
      ],
      "source": [
        "data[\"offer_application_preference_code\"].value_counts()"
      ]
    },
    {
      "cell_type": "code",
      "execution_count": 98,
      "metadata": {
        "colab": {
          "base_uri": "https://localhost:8080/"
        },
        "id": "u-ttRhPBFSpG",
        "outputId": "33815d70-7ff6-424c-d5fa-816c6da2392d"
      },
      "outputs": [
        {
          "data": {
            "text/plain": [
              "no     18602\n",
              "yes    18390\n",
              "Name: past_complaint, dtype: int64"
            ]
          },
          "execution_count": 98,
          "metadata": {},
          "output_type": "execute_result"
        }
      ],
      "source": [
        "data[\"past_complaint\"].str.lower().value_counts()"
      ]
    },
    {
      "cell_type": "code",
      "execution_count": 99,
      "metadata": {
        "id": "l9GvKvegFVBP"
      },
      "outputs": [],
      "source": [
        "data['past_complaint'] = data['past_complaint'].str.lower()\n",
        "data[\"past_complaint\"] = data[\"past_complaint\"].astype('category')\n",
        "data['past_complaint_code']=data['past_complaint'].cat.codes"
      ]
    },
    {
      "cell_type": "code",
      "execution_count": 100,
      "metadata": {
        "colab": {
          "base_uri": "https://localhost:8080/"
        },
        "id": "yeVXc7dHFW0F",
        "outputId": "edc954f5-0316-45bc-df9c-0476b63cbfb5"
      },
      "outputs": [
        {
          "data": {
            "text/plain": [
              "no     18602\n",
              "yes    18390\n",
              "Name: past_complaint, dtype: int64"
            ]
          },
          "execution_count": 100,
          "metadata": {},
          "output_type": "execute_result"
        }
      ],
      "source": [
        "data[\"past_complaint\"].str.lower().value_counts()"
      ]
    },
    {
      "cell_type": "code",
      "execution_count": 101,
      "metadata": {
        "id": "8bY6bWs4FYyZ"
      },
      "outputs": [],
      "source": [
        "data['complaint_status'] = data['complaint_status'].str.lower()\n",
        "data[\"complaint_status\"] = data[\"complaint_status\"].astype('category')\n",
        "data['complaint_status_code']=data['complaint_status'].cat.codes"
      ]
    },
    {
      "cell_type": "code",
      "execution_count": 102,
      "metadata": {
        "colab": {
          "base_uri": "https://localhost:8080/"
        },
        "id": "Mqx5IWTKFa5F",
        "outputId": "f843f204-bfbe-4f15-8ee0-eb4e71f21a77"
      },
      "outputs": [
        {
          "data": {
            "text/plain": [
              "poor product quality        6350\n",
              "no reason specified         6290\n",
              "too many ads                6279\n",
              "poor website                6271\n",
              "poor customer service       6252\n",
              "reasonable price            1417\n",
              "user friendly website       1391\n",
              "products always in stock    1382\n",
              "quality customer care       1360\n",
              "Name: feedback, dtype: int64"
            ]
          },
          "execution_count": 102,
          "metadata": {},
          "output_type": "execute_result"
        }
      ],
      "source": [
        "data[\"feedback\"].str.lower().value_counts()"
      ]
    },
    {
      "cell_type": "code",
      "execution_count": 103,
      "metadata": {
        "id": "mJbCjmHOFciR"
      },
      "outputs": [],
      "source": [
        "data['feedback'] = data['feedback'].str.lower()\n",
        "data[\"feedback\"] = data[\"feedback\"].astype('category')\n",
        "data['feedback_code']=data['feedback'].cat.codes"
      ]
    },
    {
      "cell_type": "code",
      "execution_count": 104,
      "metadata": {
        "colab": {
          "base_uri": "https://localhost:8080/",
          "height": 391
        },
        "id": "FngR-ZWdFeXo",
        "outputId": "ba5c2887-8d28-434d-9b12-46d804b18176"
      },
      "outputs": [
        {
          "data": {
            "text/html": [
              "\n",
              "  <div id=\"df-24567db6-5375-482b-82ac-fb8914ee9122\">\n",
              "    <div class=\"colab-df-container\">\n",
              "      <div>\n",
              "<style scoped>\n",
              "    .dataframe tbody tr th:only-of-type {\n",
              "        vertical-align: middle;\n",
              "    }\n",
              "\n",
              "    .dataframe tbody tr th {\n",
              "        vertical-align: top;\n",
              "    }\n",
              "\n",
              "    .dataframe thead th {\n",
              "        text-align: right;\n",
              "    }\n",
              "</style>\n",
              "<table border=\"1\" class=\"dataframe\">\n",
              "  <thead>\n",
              "    <tr style=\"text-align: right;\">\n",
              "      <th></th>\n",
              "      <th>customer_id</th>\n",
              "      <th>Name</th>\n",
              "      <th>age</th>\n",
              "      <th>gender</th>\n",
              "      <th>security_no</th>\n",
              "      <th>region_category</th>\n",
              "      <th>membership_category</th>\n",
              "      <th>joining_date</th>\n",
              "      <th>joined_through_referral</th>\n",
              "      <th>referral_id</th>\n",
              "      <th>preferred_offer_types</th>\n",
              "      <th>medium_of_operation</th>\n",
              "      <th>internet_option</th>\n",
              "      <th>last_visit_time</th>\n",
              "      <th>days_since_last_login</th>\n",
              "      <th>avg_time_spent</th>\n",
              "      <th>avg_transaction_value</th>\n",
              "      <th>avg_frequency_login_days</th>\n",
              "      <th>points_in_wallet</th>\n",
              "      <th>used_special_discount</th>\n",
              "      <th>offer_application_preference</th>\n",
              "      <th>past_complaint</th>\n",
              "      <th>complaint_status</th>\n",
              "      <th>feedback</th>\n",
              "      <th>churn_risk_score</th>\n",
              "      <th>gender_code</th>\n",
              "      <th>region_category_code</th>\n",
              "      <th>membership_category_code</th>\n",
              "      <th>year</th>\n",
              "      <th>joined_through_referral_code</th>\n",
              "      <th>preferred_offer_types_code</th>\n",
              "      <th>medium_of_operation_code</th>\n",
              "      <th>internet_option_code</th>\n",
              "      <th>used_special_discount_code</th>\n",
              "      <th>offer_application_preference_code</th>\n",
              "      <th>past_complaint_code</th>\n",
              "      <th>complaint_status_code</th>\n",
              "      <th>feedback_code</th>\n",
              "    </tr>\n",
              "  </thead>\n",
              "  <tbody>\n",
              "    <tr>\n",
              "      <th>0</th>\n",
              "      <td>fffe4300490044003600300030003800</td>\n",
              "      <td>Pattie Morrisey</td>\n",
              "      <td>18</td>\n",
              "      <td>F</td>\n",
              "      <td>XW0DQ7H</td>\n",
              "      <td>village</td>\n",
              "      <td>platinum membership</td>\n",
              "      <td>2017-08-17</td>\n",
              "      <td>no</td>\n",
              "      <td>xxxxxxxx</td>\n",
              "      <td>gift vouchers/coupons</td>\n",
              "      <td>?</td>\n",
              "      <td>wi-fi</td>\n",
              "      <td>16:08:02</td>\n",
              "      <td>17</td>\n",
              "      <td>300.63</td>\n",
              "      <td>53005.25</td>\n",
              "      <td>17.0</td>\n",
              "      <td>781.75</td>\n",
              "      <td>yes</td>\n",
              "      <td>yes</td>\n",
              "      <td>no</td>\n",
              "      <td>not applicable</td>\n",
              "      <td>products always in stock</td>\n",
              "      <td>2</td>\n",
              "      <td>0</td>\n",
              "      <td>2</td>\n",
              "      <td>3</td>\n",
              "      <td>4</td>\n",
              "      <td>1</td>\n",
              "      <td>1</td>\n",
              "      <td>0</td>\n",
              "      <td>2</td>\n",
              "      <td>1</td>\n",
              "      <td>1</td>\n",
              "      <td>0</td>\n",
              "      <td>1</td>\n",
              "      <td>4</td>\n",
              "    </tr>\n",
              "    <tr>\n",
              "      <th>1</th>\n",
              "      <td>fffe43004900440032003100300035003700</td>\n",
              "      <td>Traci Peery</td>\n",
              "      <td>32</td>\n",
              "      <td>F</td>\n",
              "      <td>5K0N3X1</td>\n",
              "      <td>city</td>\n",
              "      <td>premium membership</td>\n",
              "      <td>2017-08-28</td>\n",
              "      <td>?</td>\n",
              "      <td>CID21329</td>\n",
              "      <td>gift vouchers/coupons</td>\n",
              "      <td>desktop</td>\n",
              "      <td>mobile_data</td>\n",
              "      <td>12:38:13</td>\n",
              "      <td>16</td>\n",
              "      <td>306.34</td>\n",
              "      <td>12838.38</td>\n",
              "      <td>10.0</td>\n",
              "      <td>641.22</td>\n",
              "      <td>yes</td>\n",
              "      <td>no</td>\n",
              "      <td>yes</td>\n",
              "      <td>solved</td>\n",
              "      <td>quality customer care</td>\n",
              "      <td>1</td>\n",
              "      <td>0</td>\n",
              "      <td>0</td>\n",
              "      <td>4</td>\n",
              "      <td>4</td>\n",
              "      <td>0</td>\n",
              "      <td>1</td>\n",
              "      <td>2</td>\n",
              "      <td>1</td>\n",
              "      <td>1</td>\n",
              "      <td>0</td>\n",
              "      <td>1</td>\n",
              "      <td>2</td>\n",
              "      <td>5</td>\n",
              "    </tr>\n",
              "    <tr>\n",
              "      <th>2</th>\n",
              "      <td>fffe4300490044003100390032003600</td>\n",
              "      <td>Merideth Mcmeen</td>\n",
              "      <td>44</td>\n",
              "      <td>F</td>\n",
              "      <td>1F2TCL3</td>\n",
              "      <td>town</td>\n",
              "      <td>no membership</td>\n",
              "      <td>2016-11-11</td>\n",
              "      <td>yes</td>\n",
              "      <td>CID12313</td>\n",
              "      <td>gift vouchers/coupons</td>\n",
              "      <td>desktop</td>\n",
              "      <td>wi-fi</td>\n",
              "      <td>22:53:21</td>\n",
              "      <td>14</td>\n",
              "      <td>516.16</td>\n",
              "      <td>21027.00</td>\n",
              "      <td>22.0</td>\n",
              "      <td>500.69</td>\n",
              "      <td>no</td>\n",
              "      <td>yes</td>\n",
              "      <td>yes</td>\n",
              "      <td>solved in follow-up</td>\n",
              "      <td>poor website</td>\n",
              "      <td>5</td>\n",
              "      <td>0</td>\n",
              "      <td>1</td>\n",
              "      <td>2</td>\n",
              "      <td>5</td>\n",
              "      <td>2</td>\n",
              "      <td>1</td>\n",
              "      <td>2</td>\n",
              "      <td>2</td>\n",
              "      <td>0</td>\n",
              "      <td>1</td>\n",
              "      <td>1</td>\n",
              "      <td>3</td>\n",
              "      <td>3</td>\n",
              "    </tr>\n",
              "    <tr>\n",
              "      <th>3</th>\n",
              "      <td>fffe43004900440036003000330031003600</td>\n",
              "      <td>Eufemia Cardwell</td>\n",
              "      <td>37</td>\n",
              "      <td>M</td>\n",
              "      <td>VJGJ33N</td>\n",
              "      <td>city</td>\n",
              "      <td>no membership</td>\n",
              "      <td>2016-10-29</td>\n",
              "      <td>yes</td>\n",
              "      <td>CID3793</td>\n",
              "      <td>gift vouchers/coupons</td>\n",
              "      <td>desktop</td>\n",
              "      <td>mobile_data</td>\n",
              "      <td>15:57:50</td>\n",
              "      <td>11</td>\n",
              "      <td>53.27</td>\n",
              "      <td>25239.56</td>\n",
              "      <td>6.0</td>\n",
              "      <td>567.66</td>\n",
              "      <td>no</td>\n",
              "      <td>yes</td>\n",
              "      <td>yes</td>\n",
              "      <td>unsolved</td>\n",
              "      <td>poor website</td>\n",
              "      <td>5</td>\n",
              "      <td>1</td>\n",
              "      <td>0</td>\n",
              "      <td>2</td>\n",
              "      <td>5</td>\n",
              "      <td>2</td>\n",
              "      <td>1</td>\n",
              "      <td>2</td>\n",
              "      <td>1</td>\n",
              "      <td>0</td>\n",
              "      <td>1</td>\n",
              "      <td>1</td>\n",
              "      <td>4</td>\n",
              "      <td>3</td>\n",
              "    </tr>\n",
              "    <tr>\n",
              "      <th>4</th>\n",
              "      <td>fffe43004900440031003900350030003600</td>\n",
              "      <td>Meghan Kosak</td>\n",
              "      <td>31</td>\n",
              "      <td>F</td>\n",
              "      <td>SVZXCWB</td>\n",
              "      <td>city</td>\n",
              "      <td>no membership</td>\n",
              "      <td>2017-09-12</td>\n",
              "      <td>no</td>\n",
              "      <td>xxxxxxxx</td>\n",
              "      <td>credit/debit card offers</td>\n",
              "      <td>smartphone</td>\n",
              "      <td>mobile_data</td>\n",
              "      <td>15:46:44</td>\n",
              "      <td>20</td>\n",
              "      <td>113.13</td>\n",
              "      <td>24483.66</td>\n",
              "      <td>16.0</td>\n",
              "      <td>663.06</td>\n",
              "      <td>no</td>\n",
              "      <td>yes</td>\n",
              "      <td>yes</td>\n",
              "      <td>solved</td>\n",
              "      <td>poor website</td>\n",
              "      <td>5</td>\n",
              "      <td>0</td>\n",
              "      <td>0</td>\n",
              "      <td>2</td>\n",
              "      <td>4</td>\n",
              "      <td>1</td>\n",
              "      <td>0</td>\n",
              "      <td>3</td>\n",
              "      <td>1</td>\n",
              "      <td>0</td>\n",
              "      <td>1</td>\n",
              "      <td>1</td>\n",
              "      <td>2</td>\n",
              "      <td>3</td>\n",
              "    </tr>\n",
              "  </tbody>\n",
              "</table>\n",
              "</div>\n",
              "      <button class=\"colab-df-convert\" onclick=\"convertToInteractive('df-24567db6-5375-482b-82ac-fb8914ee9122')\"\n",
              "              title=\"Convert this dataframe to an interactive table.\"\n",
              "              style=\"display:none;\">\n",
              "        \n",
              "  <svg xmlns=\"http://www.w3.org/2000/svg\" height=\"24px\"viewBox=\"0 0 24 24\"\n",
              "       width=\"24px\">\n",
              "    <path d=\"M0 0h24v24H0V0z\" fill=\"none\"/>\n",
              "    <path d=\"M18.56 5.44l.94 2.06.94-2.06 2.06-.94-2.06-.94-.94-2.06-.94 2.06-2.06.94zm-11 1L8.5 8.5l.94-2.06 2.06-.94-2.06-.94L8.5 2.5l-.94 2.06-2.06.94zm10 10l.94 2.06.94-2.06 2.06-.94-2.06-.94-.94-2.06-.94 2.06-2.06.94z\"/><path d=\"M17.41 7.96l-1.37-1.37c-.4-.4-.92-.59-1.43-.59-.52 0-1.04.2-1.43.59L10.3 9.45l-7.72 7.72c-.78.78-.78 2.05 0 2.83L4 21.41c.39.39.9.59 1.41.59.51 0 1.02-.2 1.41-.59l7.78-7.78 2.81-2.81c.8-.78.8-2.07 0-2.86zM5.41 20L4 18.59l7.72-7.72 1.47 1.35L5.41 20z\"/>\n",
              "  </svg>\n",
              "      </button>\n",
              "      \n",
              "  <style>\n",
              "    .colab-df-container {\n",
              "      display:flex;\n",
              "      flex-wrap:wrap;\n",
              "      gap: 12px;\n",
              "    }\n",
              "\n",
              "    .colab-df-convert {\n",
              "      background-color: #E8F0FE;\n",
              "      border: none;\n",
              "      border-radius: 50%;\n",
              "      cursor: pointer;\n",
              "      display: none;\n",
              "      fill: #1967D2;\n",
              "      height: 32px;\n",
              "      padding: 0 0 0 0;\n",
              "      width: 32px;\n",
              "    }\n",
              "\n",
              "    .colab-df-convert:hover {\n",
              "      background-color: #E2EBFA;\n",
              "      box-shadow: 0px 1px 2px rgba(60, 64, 67, 0.3), 0px 1px 3px 1px rgba(60, 64, 67, 0.15);\n",
              "      fill: #174EA6;\n",
              "    }\n",
              "\n",
              "    [theme=dark] .colab-df-convert {\n",
              "      background-color: #3B4455;\n",
              "      fill: #D2E3FC;\n",
              "    }\n",
              "\n",
              "    [theme=dark] .colab-df-convert:hover {\n",
              "      background-color: #434B5C;\n",
              "      box-shadow: 0px 1px 3px 1px rgba(0, 0, 0, 0.15);\n",
              "      filter: drop-shadow(0px 1px 2px rgba(0, 0, 0, 0.3));\n",
              "      fill: #FFFFFF;\n",
              "    }\n",
              "  </style>\n",
              "\n",
              "      <script>\n",
              "        const buttonEl =\n",
              "          document.querySelector('#df-24567db6-5375-482b-82ac-fb8914ee9122 button.colab-df-convert');\n",
              "        buttonEl.style.display =\n",
              "          google.colab.kernel.accessAllowed ? 'block' : 'none';\n",
              "\n",
              "        async function convertToInteractive(key) {\n",
              "          const element = document.querySelector('#df-24567db6-5375-482b-82ac-fb8914ee9122');\n",
              "          const dataTable =\n",
              "            await google.colab.kernel.invokeFunction('convertToInteractive',\n",
              "                                                     [key], {});\n",
              "          if (!dataTable) return;\n",
              "\n",
              "          const docLinkHtml = 'Like what you see? Visit the ' +\n",
              "            '<a target=\"_blank\" href=https://colab.research.google.com/notebooks/data_table.ipynb>data table notebook</a>'\n",
              "            + ' to learn more about interactive tables.';\n",
              "          element.innerHTML = '';\n",
              "          dataTable['output_type'] = 'display_data';\n",
              "          await google.colab.output.renderOutput(dataTable, element);\n",
              "          const docLink = document.createElement('div');\n",
              "          docLink.innerHTML = docLinkHtml;\n",
              "          element.appendChild(docLink);\n",
              "        }\n",
              "      </script>\n",
              "    </div>\n",
              "  </div>\n",
              "  "
            ],
            "text/plain": [
              "                            customer_id  ... feedback_code\n",
              "0      fffe4300490044003600300030003800  ...             4\n",
              "1  fffe43004900440032003100300035003700  ...             5\n",
              "2      fffe4300490044003100390032003600  ...             3\n",
              "3  fffe43004900440036003000330031003600  ...             3\n",
              "4  fffe43004900440031003900350030003600  ...             3\n",
              "\n",
              "[5 rows x 38 columns]"
            ]
          },
          "execution_count": 104,
          "metadata": {},
          "output_type": "execute_result"
        }
      ],
      "source": [
        "data.head(5)"
      ]
    },
    {
      "cell_type": "code",
      "execution_count": 105,
      "metadata": {
        "id": "0f4CjBnIFf_P"
      },
      "outputs": [],
      "source": [
        "dropouts = ['customer_id','Name','security_no','gender','security_no','region_category','membership_category','joining_date','joined_through_referral','referral_id',\n",
        "            'preferred_offer_types','medium_of_operation','internet_option','last_visit_time','used_special_discount','offer_application_preference','past_complaint','complaint_status',\n",
        "            'feedback','churn_risk_score','avg_frequency_login_days']\n",
        "            "
      ]
    },
    {
      "cell_type": "code",
      "execution_count": 106,
      "metadata": {
        "id": "WUozvpCZFs7c"
      },
      "outputs": [],
      "source": [
        "data = data.dropna()"
      ]
    },
    {
      "cell_type": "code",
      "execution_count": 107,
      "metadata": {
        "id": "-M295FGkFvK5"
      },
      "outputs": [],
      "source": [
        "score = data['churn_risk_score'].copy()"
      ]
    },
    {
      "cell_type": "code",
      "execution_count": 108,
      "metadata": {
        "colab": {
          "base_uri": "https://localhost:8080/"
        },
        "id": "axdV_SiTFw9e",
        "outputId": "5f8b7e73-b786-4182-8bf1-818b3b3c7ca3"
      },
      "outputs": [
        {
          "data": {
            "text/plain": [
              "(31325,)"
            ]
          },
          "execution_count": 108,
          "metadata": {},
          "output_type": "execute_result"
        }
      ],
      "source": [
        "score.shape"
      ]
    },
    {
      "cell_type": "code",
      "execution_count": 109,
      "metadata": {
        "id": "jru_sLctFzbd"
      },
      "outputs": [],
      "source": [
        "feature = data.drop(columns=dropouts)"
      ]
    },
    {
      "cell_type": "code",
      "execution_count": 110,
      "metadata": {
        "colab": {
          "base_uri": "https://localhost:8080/",
          "height": 270
        },
        "id": "kmXBqEpXF1oZ",
        "outputId": "0d771eaf-423a-45a7-f0a7-b7962f9b8ce0"
      },
      "outputs": [
        {
          "data": {
            "text/html": [
              "\n",
              "  <div id=\"df-63e45e60-7493-47ab-95fc-1cd29782526a\">\n",
              "    <div class=\"colab-df-container\">\n",
              "      <div>\n",
              "<style scoped>\n",
              "    .dataframe tbody tr th:only-of-type {\n",
              "        vertical-align: middle;\n",
              "    }\n",
              "\n",
              "    .dataframe tbody tr th {\n",
              "        vertical-align: top;\n",
              "    }\n",
              "\n",
              "    .dataframe thead th {\n",
              "        text-align: right;\n",
              "    }\n",
              "</style>\n",
              "<table border=\"1\" class=\"dataframe\">\n",
              "  <thead>\n",
              "    <tr style=\"text-align: right;\">\n",
              "      <th></th>\n",
              "      <th>age</th>\n",
              "      <th>days_since_last_login</th>\n",
              "      <th>avg_time_spent</th>\n",
              "      <th>avg_transaction_value</th>\n",
              "      <th>points_in_wallet</th>\n",
              "      <th>gender_code</th>\n",
              "      <th>region_category_code</th>\n",
              "      <th>membership_category_code</th>\n",
              "      <th>year</th>\n",
              "      <th>joined_through_referral_code</th>\n",
              "      <th>preferred_offer_types_code</th>\n",
              "      <th>medium_of_operation_code</th>\n",
              "      <th>internet_option_code</th>\n",
              "      <th>used_special_discount_code</th>\n",
              "      <th>offer_application_preference_code</th>\n",
              "      <th>past_complaint_code</th>\n",
              "      <th>complaint_status_code</th>\n",
              "      <th>feedback_code</th>\n",
              "    </tr>\n",
              "  </thead>\n",
              "  <tbody>\n",
              "    <tr>\n",
              "      <th>0</th>\n",
              "      <td>18</td>\n",
              "      <td>17</td>\n",
              "      <td>300.63</td>\n",
              "      <td>53005.25</td>\n",
              "      <td>781.75</td>\n",
              "      <td>0</td>\n",
              "      <td>2</td>\n",
              "      <td>3</td>\n",
              "      <td>4</td>\n",
              "      <td>1</td>\n",
              "      <td>1</td>\n",
              "      <td>0</td>\n",
              "      <td>2</td>\n",
              "      <td>1</td>\n",
              "      <td>1</td>\n",
              "      <td>0</td>\n",
              "      <td>1</td>\n",
              "      <td>4</td>\n",
              "    </tr>\n",
              "    <tr>\n",
              "      <th>1</th>\n",
              "      <td>32</td>\n",
              "      <td>16</td>\n",
              "      <td>306.34</td>\n",
              "      <td>12838.38</td>\n",
              "      <td>641.22</td>\n",
              "      <td>0</td>\n",
              "      <td>0</td>\n",
              "      <td>4</td>\n",
              "      <td>4</td>\n",
              "      <td>0</td>\n",
              "      <td>1</td>\n",
              "      <td>2</td>\n",
              "      <td>1</td>\n",
              "      <td>1</td>\n",
              "      <td>0</td>\n",
              "      <td>1</td>\n",
              "      <td>2</td>\n",
              "      <td>5</td>\n",
              "    </tr>\n",
              "    <tr>\n",
              "      <th>2</th>\n",
              "      <td>44</td>\n",
              "      <td>14</td>\n",
              "      <td>516.16</td>\n",
              "      <td>21027.00</td>\n",
              "      <td>500.69</td>\n",
              "      <td>0</td>\n",
              "      <td>1</td>\n",
              "      <td>2</td>\n",
              "      <td>5</td>\n",
              "      <td>2</td>\n",
              "      <td>1</td>\n",
              "      <td>2</td>\n",
              "      <td>2</td>\n",
              "      <td>0</td>\n",
              "      <td>1</td>\n",
              "      <td>1</td>\n",
              "      <td>3</td>\n",
              "      <td>3</td>\n",
              "    </tr>\n",
              "    <tr>\n",
              "      <th>3</th>\n",
              "      <td>37</td>\n",
              "      <td>11</td>\n",
              "      <td>53.27</td>\n",
              "      <td>25239.56</td>\n",
              "      <td>567.66</td>\n",
              "      <td>1</td>\n",
              "      <td>0</td>\n",
              "      <td>2</td>\n",
              "      <td>5</td>\n",
              "      <td>2</td>\n",
              "      <td>1</td>\n",
              "      <td>2</td>\n",
              "      <td>1</td>\n",
              "      <td>0</td>\n",
              "      <td>1</td>\n",
              "      <td>1</td>\n",
              "      <td>4</td>\n",
              "      <td>3</td>\n",
              "    </tr>\n",
              "    <tr>\n",
              "      <th>4</th>\n",
              "      <td>31</td>\n",
              "      <td>20</td>\n",
              "      <td>113.13</td>\n",
              "      <td>24483.66</td>\n",
              "      <td>663.06</td>\n",
              "      <td>0</td>\n",
              "      <td>0</td>\n",
              "      <td>2</td>\n",
              "      <td>4</td>\n",
              "      <td>1</td>\n",
              "      <td>0</td>\n",
              "      <td>3</td>\n",
              "      <td>1</td>\n",
              "      <td>0</td>\n",
              "      <td>1</td>\n",
              "      <td>1</td>\n",
              "      <td>2</td>\n",
              "      <td>3</td>\n",
              "    </tr>\n",
              "  </tbody>\n",
              "</table>\n",
              "</div>\n",
              "      <button class=\"colab-df-convert\" onclick=\"convertToInteractive('df-63e45e60-7493-47ab-95fc-1cd29782526a')\"\n",
              "              title=\"Convert this dataframe to an interactive table.\"\n",
              "              style=\"display:none;\">\n",
              "        \n",
              "  <svg xmlns=\"http://www.w3.org/2000/svg\" height=\"24px\"viewBox=\"0 0 24 24\"\n",
              "       width=\"24px\">\n",
              "    <path d=\"M0 0h24v24H0V0z\" fill=\"none\"/>\n",
              "    <path d=\"M18.56 5.44l.94 2.06.94-2.06 2.06-.94-2.06-.94-.94-2.06-.94 2.06-2.06.94zm-11 1L8.5 8.5l.94-2.06 2.06-.94-2.06-.94L8.5 2.5l-.94 2.06-2.06.94zm10 10l.94 2.06.94-2.06 2.06-.94-2.06-.94-.94-2.06-.94 2.06-2.06.94z\"/><path d=\"M17.41 7.96l-1.37-1.37c-.4-.4-.92-.59-1.43-.59-.52 0-1.04.2-1.43.59L10.3 9.45l-7.72 7.72c-.78.78-.78 2.05 0 2.83L4 21.41c.39.39.9.59 1.41.59.51 0 1.02-.2 1.41-.59l7.78-7.78 2.81-2.81c.8-.78.8-2.07 0-2.86zM5.41 20L4 18.59l7.72-7.72 1.47 1.35L5.41 20z\"/>\n",
              "  </svg>\n",
              "      </button>\n",
              "      \n",
              "  <style>\n",
              "    .colab-df-container {\n",
              "      display:flex;\n",
              "      flex-wrap:wrap;\n",
              "      gap: 12px;\n",
              "    }\n",
              "\n",
              "    .colab-df-convert {\n",
              "      background-color: #E8F0FE;\n",
              "      border: none;\n",
              "      border-radius: 50%;\n",
              "      cursor: pointer;\n",
              "      display: none;\n",
              "      fill: #1967D2;\n",
              "      height: 32px;\n",
              "      padding: 0 0 0 0;\n",
              "      width: 32px;\n",
              "    }\n",
              "\n",
              "    .colab-df-convert:hover {\n",
              "      background-color: #E2EBFA;\n",
              "      box-shadow: 0px 1px 2px rgba(60, 64, 67, 0.3), 0px 1px 3px 1px rgba(60, 64, 67, 0.15);\n",
              "      fill: #174EA6;\n",
              "    }\n",
              "\n",
              "    [theme=dark] .colab-df-convert {\n",
              "      background-color: #3B4455;\n",
              "      fill: #D2E3FC;\n",
              "    }\n",
              "\n",
              "    [theme=dark] .colab-df-convert:hover {\n",
              "      background-color: #434B5C;\n",
              "      box-shadow: 0px 1px 3px 1px rgba(0, 0, 0, 0.15);\n",
              "      filter: drop-shadow(0px 1px 2px rgba(0, 0, 0, 0.3));\n",
              "      fill: #FFFFFF;\n",
              "    }\n",
              "  </style>\n",
              "\n",
              "      <script>\n",
              "        const buttonEl =\n",
              "          document.querySelector('#df-63e45e60-7493-47ab-95fc-1cd29782526a button.colab-df-convert');\n",
              "        buttonEl.style.display =\n",
              "          google.colab.kernel.accessAllowed ? 'block' : 'none';\n",
              "\n",
              "        async function convertToInteractive(key) {\n",
              "          const element = document.querySelector('#df-63e45e60-7493-47ab-95fc-1cd29782526a');\n",
              "          const dataTable =\n",
              "            await google.colab.kernel.invokeFunction('convertToInteractive',\n",
              "                                                     [key], {});\n",
              "          if (!dataTable) return;\n",
              "\n",
              "          const docLinkHtml = 'Like what you see? Visit the ' +\n",
              "            '<a target=\"_blank\" href=https://colab.research.google.com/notebooks/data_table.ipynb>data table notebook</a>'\n",
              "            + ' to learn more about interactive tables.';\n",
              "          element.innerHTML = '';\n",
              "          dataTable['output_type'] = 'display_data';\n",
              "          await google.colab.output.renderOutput(dataTable, element);\n",
              "          const docLink = document.createElement('div');\n",
              "          docLink.innerHTML = docLinkHtml;\n",
              "          element.appendChild(docLink);\n",
              "        }\n",
              "      </script>\n",
              "    </div>\n",
              "  </div>\n",
              "  "
            ],
            "text/plain": [
              "   age  days_since_last_login  ...  complaint_status_code  feedback_code\n",
              "0   18                     17  ...                      1              4\n",
              "1   32                     16  ...                      2              5\n",
              "2   44                     14  ...                      3              3\n",
              "3   37                     11  ...                      4              3\n",
              "4   31                     20  ...                      2              3\n",
              "\n",
              "[5 rows x 18 columns]"
            ]
          },
          "execution_count": 110,
          "metadata": {},
          "output_type": "execute_result"
        }
      ],
      "source": [
        "feature.head()"
      ]
    },
    {
      "cell_type": "code",
      "execution_count": 111,
      "metadata": {
        "colab": {
          "base_uri": "https://localhost:8080/"
        },
        "id": "6sBpbbRbF3Yb",
        "outputId": "47f9c912-d376-4b4c-9c12-49cafff7d6d8"
      },
      "outputs": [
        {
          "data": {
            "text/plain": [
              "(31325, 18)"
            ]
          },
          "execution_count": 111,
          "metadata": {},
          "output_type": "execute_result"
        }
      ],
      "source": [
        "feature.shape"
      ]
    },
    {
      "cell_type": "code",
      "execution_count": 112,
      "metadata": {
        "id": "KL2FvY90F7Ht"
      },
      "outputs": [],
      "source": [
        "feature.to_csv('clean_data.csv')\n",
        "score.to_csv('test_score.csv')"
      ]
    },
    {
      "cell_type": "code",
      "execution_count": null,
      "metadata": {
        "id": "V5YOyGuoF9Qy"
      },
      "outputs": [],
      "source": []
    }
  ],
  "metadata": {
    "colab": {
      "collapsed_sections": [],
      "name": "data refining.ipynb",
      "provenance": []
    },
    "kernelspec": {
      "display_name": "Python 3",
      "name": "python3"
    },
    "language_info": {
      "name": "python",
      "version": "3.10.2"
    }
  },
  "nbformat": 4,
  "nbformat_minor": 0
}
